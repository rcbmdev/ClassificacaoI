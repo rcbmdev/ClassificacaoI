{
 "cells": [
  {
   "cell_type": "code",
   "execution_count": 2,
   "id": "a9144342",
   "metadata": {},
   "outputs": [],
   "source": [
    "import pickle\n",
    "from sklearn.ensemble import RandomForestClassifier"
   ]
  },
  {
   "cell_type": "code",
   "execution_count": 3,
   "id": "893ada1e",
   "metadata": {},
   "outputs": [],
   "source": [
    "with open('credito.pkl', 'rb') as f:\n",
    "    X_credito_treino, y_credito_treino, X_credito_teste, y_credito_teste = pickle.load(f)"
   ]
  },
  {
   "cell_type": "code",
   "execution_count": 4,
   "id": "1c5b6167",
   "metadata": {},
   "outputs": [
    {
     "data": {
      "text/plain": [
       "((22806, 3), (22806,))"
      ]
     },
     "execution_count": 4,
     "metadata": {},
     "output_type": "execute_result"
    }
   ],
   "source": [
    "X_credito_treino.shape, y_credito_treino.shape"
   ]
  },
  {
   "cell_type": "code",
   "execution_count": 17,
   "id": "ac37c31a",
   "metadata": {},
   "outputs": [
    {
     "data": {
      "text/plain": [
       "RandomForestClassifier(criterion='entropy')"
      ]
     },
     "execution_count": 17,
     "metadata": {},
     "output_type": "execute_result"
    }
   ],
   "source": [
    "rf_credito = RandomForestClassifier(n_estimators=100, criterion='entropy')\n",
    "rf_credito.fit(X_credito_treino, y_credito_treino)"
   ]
  },
  {
   "cell_type": "code",
   "execution_count": 18,
   "id": "1a09f8bf",
   "metadata": {},
   "outputs": [],
   "source": [
    "previsoes = rf_credito.predict(X_credito_teste)"
   ]
  },
  {
   "cell_type": "code",
   "execution_count": 19,
   "id": "0ea4e224",
   "metadata": {},
   "outputs": [
    {
     "data": {
      "text/plain": [
       "array([0, 0, 0, ..., 0, 0, 0], dtype=int64)"
      ]
     },
     "execution_count": 19,
     "metadata": {},
     "output_type": "execute_result"
    }
   ],
   "source": [
    "previsoes"
   ]
  },
  {
   "cell_type": "code",
   "execution_count": 20,
   "id": "19a49d11",
   "metadata": {},
   "outputs": [
    {
     "data": {
      "text/plain": [
       "array([0, 0, 0, ..., 1, 0, 0], dtype=int64)"
      ]
     },
     "execution_count": 20,
     "metadata": {},
     "output_type": "execute_result"
    }
   ],
   "source": [
    "y_credito_teste"
   ]
  },
  {
   "cell_type": "code",
   "execution_count": 21,
   "id": "91c8f698",
   "metadata": {},
   "outputs": [],
   "source": [
    "from sklearn.metrics import accuracy_score, confusion_matrix, classification_report"
   ]
  },
  {
   "cell_type": "code",
   "execution_count": 22,
   "id": "09a1ad51",
   "metadata": {},
   "outputs": [
    {
     "data": {
      "text/plain": [
       "0.8383631713554988"
      ]
     },
     "execution_count": 22,
     "metadata": {},
     "output_type": "execute_result"
    }
   ],
   "source": [
    "accuracy_score(y_credito_teste, previsoes)"
   ]
  },
  {
   "cell_type": "code",
   "execution_count": 23,
   "id": "78504f29",
   "metadata": {},
   "outputs": [
    {
     "data": {
      "text/plain": [
       "array([[7195,  549],\n",
       "       [1031, 1000]], dtype=int64)"
      ]
     },
     "execution_count": 23,
     "metadata": {},
     "output_type": "execute_result"
    }
   ],
   "source": [
    "confusion_matrix(y_credito_teste, previsoes)"
   ]
  },
  {
   "cell_type": "code",
   "execution_count": null,
   "id": "abf68b55",
   "metadata": {},
   "outputs": [],
   "source": [
    "!pip install yellowbrick"
   ]
  },
  {
   "cell_type": "code",
   "execution_count": 24,
   "id": "e1deae96",
   "metadata": {},
   "outputs": [],
   "source": [
    "from yellowbrick.classifier import ConfusionMatrix"
   ]
  },
  {
   "cell_type": "code",
   "execution_count": 25,
   "id": "b413617f",
   "metadata": {},
   "outputs": [
    {
     "data": {
      "text/plain": [
       "0.8383631713554988"
      ]
     },
     "execution_count": 25,
     "metadata": {},
     "output_type": "execute_result"
    },
    {
     "data": {
      "image/png": "[encoded data removed]",
      "text/plain": [
       "<Figure size 576x396 with 1 Axes>"
      ]
     },
     "metadata": {},
     "output_type": "display_data"
    }
   ],
   "source": [
    "cm = ConfusionMatrix(rf_credito)\n",
    "cm.fit(X_credito_treino, y_credito_treino)\n",
    "cm.score(X_credito_teste, y_credito_teste)"
   ]
  },
  {
   "cell_type": "code",
   "execution_count": 26,
   "id": "f4480f1e",
   "metadata": {},
   "outputs": [
    {
     "name": "stdout",
     "output_type": "stream",
     "text": [
      "              precision    recall  f1-score   support\n",
      "\n",
      "           0       0.87      0.93      0.90      7744\n",
      "           1       0.65      0.49      0.56      2031\n",
      "\n",
      "    accuracy                           0.84      9775\n",
      "   macro avg       0.76      0.71      0.73      9775\n",
      "weighted avg       0.83      0.84      0.83      9775\n",
      "\n"
     ]
    }
   ],
   "source": [
    "print(classification_report(y_credito_teste, previsoes))"
   ]
  },
  {
   "cell_type": "code",
   "execution_count": null,
   "id": "00b913ac",
   "metadata": {},
   "outputs": [],
   "source": []
  }
 ],
 "metadata": {
  "kernelspec": {
   "display_name": "Python 3 (ipykernel)",
   "language": "python",
   "name": "python3"
  },
  "language_info": {
   "codemirror_mode": {
    "name": "ipython",
    "version": 3
   },
   "file_extension": ".py",
   "mimetype": "text/x-python",
   "name": "python",
   "nbconvert_exporter": "python",
   "pygments_lexer": "ipython3",
   "version": "3.9.12"
  }
 },
 "nbformat": 4,
 "nbformat_minor": 5
}
