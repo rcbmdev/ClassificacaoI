{
 "cells": [
  {
   "cell_type": "code",
   "execution_count": null,
   "id": "a9144342",
   "metadata": {},
   "outputs": [],
   "source": [
    "import pickle\n",
    "from sklearn.tree import DecisionTreeClassifier"
   ]
  },
  {
   "cell_type": "code",
   "execution_count": null,
   "id": "893ada1e",
   "metadata": {},
   "outputs": [],
   "source": [
    "with open('credito.pkl', 'rb') as f:\n",
    "    X_credito_treino, y_credito_treino, X_credito_teste, y_credito_teste = pickle.load(f)"
   ]
  },
  {
   "cell_type": "code",
   "execution_count": null,
   "id": "1c5b6167",
   "metadata": {},
   "outputs": [],
   "source": [
    "X_credito_treino.shape, y_credito_treino.shape"
   ]
  },
  {
   "cell_type": "code",
   "execution_count": null,
   "id": "ac37c31a",
   "metadata": {},
   "outputs": [],
   "source": [
    "dtc_credito = DecisionTreeClassifier(criterion='entropy', random_state=0)\n",
    "dtc_credito.fit(X_credito_treino, y_credito_treino)"
   ]
  },
  {
   "cell_type": "code",
   "execution_count": null,
   "id": "1a09f8bf",
   "metadata": {},
   "outputs": [],
   "source": [
    "previsoes = dtc_credito.predict(X_credito_teste)"
   ]
  },
  {
   "cell_type": "code",
   "execution_count": null,
   "id": "0ea4e224",
   "metadata": {},
   "outputs": [],
   "source": [
    "previsoes"
   ]
  },
  {
   "cell_type": "code",
   "execution_count": null,
   "id": "19a49d11",
   "metadata": {},
   "outputs": [],
   "source": [
    "y_credito_teste"
   ]
  },
  {
   "cell_type": "code",
   "execution_count": null,
   "id": "91c8f698",
   "metadata": {},
   "outputs": [],
   "source": [
    "from sklearn.metrics import accuracy_score, confusion_matrix, classification_report"
   ]
  },
  {
   "cell_type": "code",
   "execution_count": null,
   "id": "09a1ad51",
   "metadata": {},
   "outputs": [],
   "source": [
    "accuracy_score(y_credito_teste, previsoes)"
   ]
  },
  {
   "cell_type": "code",
   "execution_count": null,
   "id": "78504f29",
   "metadata": {},
   "outputs": [],
   "source": [
    "confusion_matrix(y_credito_teste, previsoes)"
   ]
  },
  {
   "cell_type": "code",
   "execution_count": null,
   "id": "abf68b55",
   "metadata": {},
   "outputs": [],
   "source": [
    "!pip install yellowbrick"
   ]
  },
  {
   "cell_type": "code",
   "execution_count": null,
   "id": "e1deae96",
   "metadata": {},
   "outputs": [],
   "source": [
    "from yellowbrick.classifier import ConfusionMatrix"
   ]
  },
  {
   "cell_type": "code",
   "execution_count": null,
   "id": "b413617f",
   "metadata": {},
   "outputs": [],
   "source": [
    "cm = ConfusionMatrix(dtc_credito)\n",
    "cm.fit(X_credito_treino, y_credito_treino)\n",
    "cm.score(X_credito_teste, y_credito_teste)"
   ]
  },
  {
   "cell_type": "code",
   "execution_count": null,
   "id": "05e1e501",
   "metadata": {},
   "outputs": [],
   "source": [
    "print(classification_report(y_credito_teste, previsoes))"
   ]
  },
  {
   "cell_type": "code",
   "execution_count": null,
   "id": "cb9599f9",
   "metadata": {},
   "outputs": [],
   "source": [
    "from sklearn import tree\n",
    "import matplotlib.pyplot as plt"
   ]
  },
  {
   "cell_type": "code",
   "execution_count": null,
   "id": "d585a065",
   "metadata": {},
   "outputs": [],
   "source": [
    "previsores = ['income', 'age', 'loan']\n",
    "fig, axes = plt.subplots(nrows = 1, ncols = 1, figsize = (20,20))\n",
    "tree.plot_tree(dtc_credito, feature_names=previsores, class_names=str(dtc_credito.classes_));\n",
    "fig.savefig('arvore_credito.png')"
   ]
  },
  {
   "cell_type": "code",
   "execution_count": null,
   "id": "0927a77d",
   "metadata": {},
   "outputs": [],
   "source": []
  }
 ],
 "metadata": {
  "kernelspec": {
   "display_name": "Python 3 (ipykernel)",
   "language": "python",
   "name": "python3"
  },
  "language_info": {
   "codemirror_mode": {
    "name": "ipython",
    "version": 3
   },
   "file_extension": ".py",
   "mimetype": "text/x-python",
   "name": "python",
   "nbconvert_exporter": "python",
   "pygments_lexer": "ipython3",
   "version": "3.9.12"
  }
 },
 "nbformat": 4,
 "nbformat_minor": 5
}
